{
 "cells": [
  {
   "cell_type": "markdown",
   "id": "769bef26-e887-4ec3-91ba-b2b5fc43f4b3",
   "metadata": {},
   "source": [
    "# **`NLP ASSIGNMENT_4`**"
   ]
  },
  {
   "cell_type": "markdown",
   "id": "eb6e444f-c5b3-4be2-abfb-269b97da6678",
   "metadata": {},
   "source": [
    "**`By Amit Sharma`**"
   ]
  },
  {
   "cell_type": "markdown",
   "id": "2643a384-822f-4b6f-a966-60baa8f7af72",
   "metadata": {},
   "source": [
    "1. **Tokenize a simple sentence using word_tokenize.** `( \"Natural Language Processing with Python is fun.\")`"
   ]
  },
  {
   "cell_type": "code",
   "execution_count": 4,
   "id": "65b0a058-5e8d-49bc-a47f-39f419521ef9",
   "metadata": {},
   "outputs": [
    {
     "data": {
      "text/plain": [
       "['Natural', 'Language', 'Processing', 'with', 'Python', 'is', 'fun', '.']"
      ]
     },
     "execution_count": 4,
     "metadata": {},
     "output_type": "execute_result"
    }
   ],
   "source": [
    "from nltk.tokenize import word_tokenize, sent_tokenize\n",
    "\n",
    "var = \"Natural Language Processing with Python is fun.\"\n",
    "word = word_tokenize(var)\n",
    "word"
   ]
  },
  {
   "cell_type": "markdown",
   "id": "8d4bcbc6-6e66-4edb-9c9a-682f1d025ad8",
   "metadata": {},
   "source": [
    "2. **Remove punctuation from a sentence using NLTK.** `(\"Hello there! How's the weather today?\").`"
   ]
  },
  {
   "cell_type": "code",
   "execution_count": 6,
   "id": "c88bf7c0-c561-4aae-9ad4-dcb974cda35d",
   "metadata": {},
   "outputs": [
    {
     "name": "stdout",
     "output_type": "stream",
     "text": [
      "Hello\n",
      "there\n",
      "How\n",
      "'s\n",
      "the\n",
      "weather\n",
      "today\n"
     ]
    }
   ],
   "source": [
    "def punct_removal(sent):\n",
    "    from string import punctuation\n",
    "    punct_list = list(punctuation)\n",
    "    \n",
    "    from nltk.tokenize import word_tokenize\n",
    "    var_new = word_tokenize(var)\n",
    "     \n",
    "    for i in var_new:\n",
    "        if i not in punct_list:\n",
    "            print(i)\n",
    "      \n",
    "var = \"Hello there! How's the weather today?\"\n",
    "# calling the function\n",
    "punct_removal(var)\n",
    "\n",
    "# Now the question mark & ! mark is removed.\n",
    "# Note: The apostrophe (like 's) is treated as a separate token, so it won't be removed by punctuation removal code."
   ]
  },
  {
   "cell_type": "code",
   "execution_count": 7,
   "id": "8b6bdfb5-4dc8-46fb-b63b-c99b268e7752",
   "metadata": {},
   "outputs": [],
   "source": [
    "# for i in var_new:\n",
    "#         if i not in punct_list:\n",
    "#             print(i)\n",
    "\n",
    "# # using list comprehension\n",
    "# result = [i for i in var_new if i not in punct_list]"
   ]
  },
  {
   "cell_type": "markdown",
   "id": "7c5c3186-b65f-41e7-ac59-479a705d3259",
   "metadata": {},
   "source": [
    "3. **Remove stopwords from a sentence.** `(\"This is a simple sentence for stopword removal.\")`"
   ]
  },
  {
   "cell_type": "code",
   "execution_count": 9,
   "id": "f70890f4-d4f1-46eb-a624-730081fa3acd",
   "metadata": {},
   "outputs": [
    {
     "name": "stdout",
     "output_type": "stream",
     "text": [
      "This\n",
      "simple\n",
      "sentence\n",
      "stopword\n",
      "removal\n",
      ".\n"
     ]
    },
    {
     "name": "stderr",
     "output_type": "stream",
     "text": [
      "[nltk_data] Downloading package stopwords to\n",
      "[nltk_data]     C:\\Users\\Acer\\AppData\\Roaming\\nltk_data...\n",
      "[nltk_data]   Package stopwords is already up-to-date!\n"
     ]
    }
   ],
   "source": [
    "def stop_word_removal(sent):\n",
    "    from nltk.corpus import stopwords\n",
    "    # to avoing lookup error\n",
    "    import nltk\n",
    "    nltk.download('stopwords')\n",
    "    stop_word_list = stopwords.words(\"english\") # stop word list\n",
    "    \n",
    "    from nltk.tokenize import word_tokenize\n",
    "    var_new = word_tokenize(var)\n",
    "    \n",
    "    for i in var_new:\n",
    "        if i not in stop_word_list:\n",
    "            print(i)\n",
    "\n",
    "var = \"This is a simple sentence for stopword removal.\"\n",
    "stop_word_removal(var)\n",
    "# Note: \n",
    "# . dot is a punctuation not stop word.\n",
    "# so it is showing in the output."
   ]
  },
  {
   "cell_type": "markdown",
   "id": "cf7b0b0a-e6a8-421c-8ec6-69f39c25c4f4",
   "metadata": {},
   "source": [
    "4. **Perform stemming using PorterStemmer.** `(\"The striped bats are hanging on their feet for best.\")`"
   ]
  },
  {
   "cell_type": "code",
   "execution_count": 11,
   "id": "cea5a03e-0103-4049-ac59-da3ed82041a5",
   "metadata": {},
   "outputs": [
    {
     "name": "stdout",
     "output_type": "stream",
     "text": [
      "the\n",
      "stripe\n",
      "bat\n",
      "are\n",
      "hang\n",
      "on\n",
      "their\n",
      "feet\n",
      "for\n",
      "best\n",
      ".\n"
     ]
    }
   ],
   "source": [
    "# word tokenize\n",
    "from nltk.tokenize import word_tokenize\n",
    "var = \"The striped bats are hanging on their feet for best.\"\n",
    "var_new = word_tokenize(var)\n",
    "\n",
    "# applying Stemmer\n",
    "from nltk.stem import PorterStemmer\n",
    "p = PorterStemmer()\n",
    "for i in var_new:\n",
    "    stem = p.stem(i)\n",
    "    print(stem)\n",
    "\n",
    "# Imp Note: We use a loop here because stemming needs to be applied to each word individually."
   ]
  },
  {
   "cell_type": "markdown",
   "id": "0555c454-114a-48e0-887f-0de4449b5772",
   "metadata": {},
   "source": [
    "5. **Perform lemmatization using WordNetLemmatizer.** `(\"The geese are flying south for the winter.\")`"
   ]
  },
  {
   "cell_type": "code",
   "execution_count": 13,
   "id": "d4b95478-6788-4e37-99b8-3b9e8dd926d2",
   "metadata": {},
   "outputs": [
    {
     "name": "stdout",
     "output_type": "stream",
     "text": [
      "The\n",
      "goose\n",
      "are\n",
      "flying\n",
      "south\n",
      "for\n",
      "the\n",
      "winter\n",
      ".\n"
     ]
    }
   ],
   "source": [
    "# word tokenize\n",
    "from nltk.tokenize import word_tokenize\n",
    "var = \"The geese are flying south for the winter.\"\n",
    "var_new = word_tokenize(var)\n",
    "\n",
    "from nltk.stem import WordNetLemmatizer\n",
    "wl = WordNetLemmatizer()\n",
    "\n",
    "for i in var_new:\n",
    "    lemmatizer = wl.lemmatize(i)\n",
    "    print(lemmatizer)"
   ]
  },
  {
   "cell_type": "markdown",
   "id": "8edb3e03-0417-483c-a2aa-27e5d94c11bc",
   "metadata": {},
   "source": [
    "6. **Convert text to lowercase and remove punctuation.** `(\"Hello, World! NLP with Python.\")`"
   ]
  },
  {
   "cell_type": "code",
   "execution_count": 15,
   "id": "22ddb139-bd8a-4fd2-aa35-1be3428693bf",
   "metadata": {},
   "outputs": [
    {
     "name": "stdout",
     "output_type": "stream",
     "text": [
      "hello\n",
      "world\n",
      "nlp\n",
      "with\n",
      "python\n"
     ]
    }
   ],
   "source": [
    "def punct_removal(sent):\n",
    "    from string import punctuation\n",
    "    punct_list = list(punctuation)\n",
    "    \n",
    "    from nltk.tokenize import word_tokenize\n",
    "    var_new = word_tokenize(var)\n",
    "     \n",
    "    for i in var_new:\n",
    "        if i not in punct_list:\n",
    "            print(i)\n",
    "      \n",
    "var = \"Hello, World! NLP with Python.\".lower()\n",
    "# calling the function\n",
    "punct_removal(var)"
   ]
  },
  {
   "cell_type": "markdown",
   "id": "3830c61b-5d63-4193-9431-75311b39b09f",
   "metadata": {},
   "source": [
    "7. **Tokenize a sentence into sentences using sent_tokenize.** `(\"Hello World. This is NLTK. Let's explore NLP!\")`\n"
   ]
  },
  {
   "cell_type": "code",
   "execution_count": 17,
   "id": "cda7908b-f2a0-4e98-b64d-de6525daeb36",
   "metadata": {},
   "outputs": [
    {
     "data": {
      "text/plain": [
       "['Hello World.', 'This is NLTK.', \"Let's explore NLP!\"]"
      ]
     },
     "execution_count": 17,
     "metadata": {},
     "output_type": "execute_result"
    }
   ],
   "source": [
    "from nltk.tokenize import sent_tokenize\n",
    "var = \"Hello World. This is NLTK. Let's explore NLP!\"\n",
    "sent = sent_tokenize(var)\n",
    "sent"
   ]
  },
  {
   "cell_type": "code",
   "execution_count": 18,
   "id": "e8c00454-d342-4036-b78e-b3f0f50b36fa",
   "metadata": {},
   "outputs": [
    {
     "name": "stdout",
     "output_type": "stream",
     "text": [
      "Hello World.\n",
      "This is NLTK.\n",
      "Let's explore NLP!\n"
     ]
    }
   ],
   "source": [
    "for i in sent:\n",
    "    print(i)"
   ]
  },
  {
   "cell_type": "code",
   "execution_count": 19,
   "id": "61287595-3564-45c9-9fe1-c1d5f5598d13",
   "metadata": {},
   "outputs": [
    {
     "data": {
      "text/plain": [
       "'Hello World.'"
      ]
     },
     "execution_count": 19,
     "metadata": {},
     "output_type": "execute_result"
    }
   ],
   "source": [
    "# Accessing 1st sentence\n",
    "sent[0]"
   ]
  },
  {
   "cell_type": "markdown",
   "id": "dd4f4192-2ee9-4efd-81dc-aebddc69d6f8",
   "metadata": {},
   "source": [
    "8. **Stem words in a sentence using LancasterStemmer.** `(“Loving the experience of learning NLTK”)`"
   ]
  },
  {
   "cell_type": "code",
   "execution_count": 21,
   "id": "dd018a4b-cbbf-4fbc-b9ed-7fbd6319e10d",
   "metadata": {},
   "outputs": [
    {
     "name": "stdout",
     "output_type": "stream",
     "text": [
      "lov\n",
      "the\n",
      "expery\n",
      "of\n",
      "learn\n",
      "nltk\n"
     ]
    }
   ],
   "source": [
    "from nltk.tokenize import word_tokenize\n",
    "var = \"Loving the experience of learning NLTK\"\n",
    "tokenize_var = word_tokenize(var)\n",
    "\n",
    "from nltk.stem import LancasterStemmer\n",
    "l = LancasterStemmer()\n",
    "for i in tokenize_var:\n",
    "    lanstemmer = l.stem(i)\n",
    "    print(lanstemmer)"
   ]
  },
  {
   "cell_type": "markdown",
   "id": "67602078-837f-47a0-971e-2cddeafe57ae",
   "metadata": {},
   "source": [
    "9. **Remove both stopwords and punctuation from a sentence.** `(\"This is a test sentence, with stopwords and punctuation!\")`\n"
   ]
  },
  {
   "cell_type": "code",
   "execution_count": 23,
   "id": "98a4debe-61df-4027-9895-9581be655226",
   "metadata": {},
   "outputs": [
    {
     "name": "stdout",
     "output_type": "stream",
     "text": [
      "This\n",
      "test\n",
      "sentence\n",
      "stopwords\n",
      "punctuation\n"
     ]
    },
    {
     "name": "stderr",
     "output_type": "stream",
     "text": [
      "[nltk_data] Downloading package stopwords to\n",
      "[nltk_data]     C:\\Users\\Acer\\AppData\\Roaming\\nltk_data...\n",
      "[nltk_data]   Package stopwords is already up-to-date!\n"
     ]
    }
   ],
   "source": [
    "var = \"This is a test sentence, with stopwords and punctuation!\"\n",
    "\n",
    "from nltk.corpus import stopwords\n",
    "from string import punctuation\n",
    "\n",
    "import nltk\n",
    "nltk.download('stopwords')\n",
    "\n",
    "stop = stopwords.words(\"english\")\n",
    "\n",
    "# all stop words\n",
    "stop_word_list = list(punctuation)+stop\n",
    "\n",
    "\n",
    "# tokenizing data\n",
    "new_var = word_tokenize(var)\n",
    "\n",
    "for i in new_var:\n",
    "    if i not in stop_word_list:\n",
    "        print(i)"
   ]
  },
  {
   "cell_type": "markdown",
   "id": "a698b8c1-77a5-4a67-81e9-0519a47e3d29",
   "metadata": {},
   "source": [
    "10. **Lemmatize words with their part-of-speech (POS) tag.** `(\"The striped bats are hanging on their feet.\")`\n"
   ]
  },
  {
   "cell_type": "code",
   "execution_count": 25,
   "id": "5ebcf27b-9944-4f1e-937b-4e5db27679ab",
   "metadata": {},
   "outputs": [
    {
     "name": "stderr",
     "output_type": "stream",
     "text": [
      "[nltk_data] Downloading package punkt to\n",
      "[nltk_data]     C:\\Users\\Acer\\AppData\\Roaming\\nltk_data...\n",
      "[nltk_data]   Package punkt is already up-to-date!\n"
     ]
    },
    {
     "name": "stdout",
     "output_type": "stream",
     "text": [
      "[('The', 'DT'), ('striped', 'JJ'), ('bat', 'NN'), ('are', 'VBP'), ('hanging', 'VBG'), ('on', 'IN'), ('their', 'PRP$'), ('foot', 'NN'), ('.', '.')]\n"
     ]
    },
    {
     "name": "stderr",
     "output_type": "stream",
     "text": [
      "[nltk_data] Downloading package averaged_perceptron_tagger to\n",
      "[nltk_data]     C:\\Users\\Acer\\AppData\\Roaming\\nltk_data...\n",
      "[nltk_data]   Package averaged_perceptron_tagger is already up-to-\n",
      "[nltk_data]       date!\n"
     ]
    }
   ],
   "source": [
    "# word tokenize\n",
    "from nltk.tokenize import word_tokenize\n",
    "var = \"The striped bats are hanging on their feet.\"\n",
    "tokenize_var = word_tokenize(var)\n",
    "\n",
    "# lemmatize\n",
    "from nltk.stem import WordNetLemmatizer\n",
    "wl = WordNetLemmatizer()\n",
    "\n",
    "from nltk.tokenize import word_tokenize\n",
    "a = [wl.lemmatize(i) for i in tokenize_var]\n",
    "\n",
    "# Part of speech\n",
    "import nltk\n",
    "nltk.download('punkt')\n",
    "\n",
    "from nltk import pos_tag\n",
    "p = pos_tag(a)\n",
    "\n",
    "import nltk\n",
    "nltk.download('averaged_perceptron_tagger')\n",
    "\n",
    "print(p)\n",
    "\n",
    "## optional step using looping\n",
    "# for word, tag in p:\n",
    "#     print(word, tag)"
   ]
  },
  {
   "cell_type": "code",
   "execution_count": 26,
   "id": "db04e207-d8ab-4ba3-a44a-ca80e9a718ce",
   "metadata": {},
   "outputs": [],
   "source": [
    "# Note for above code:\n",
    "\n",
    "# we can use blank list to store loop into a variable.\n",
    "# or we can use list comprehesion as in above code.\n",
    "\n",
    "# lemmatized_words = []\n",
    "# for i in tokenize_var:         \n",
    "#     lemmatize = wl.lemmatize(i)      \n",
    "#     lemmatized_words.append(lemmatize) \n",
    "# print(lemmatized_words) "
   ]
  },
  {
   "cell_type": "markdown",
   "id": "aadff577-c3d4-4793-bd8e-f0ae7ae2edd7",
   "metadata": {},
   "source": [
    "11. **Tokenize and remove stopwords, punctuation, and perform stemming.** `(\"Running through the forest, the fox is faster.\")`"
   ]
  },
  {
   "cell_type": "code",
   "execution_count": 28,
   "id": "c73a1aad-1e5d-4da0-8475-1f7da710e406",
   "metadata": {},
   "outputs": [
    {
     "name": "stdout",
     "output_type": "stream",
     "text": [
      "step:1 word before stop word removing and stemmer ['Running', 'through', 'the', 'forest', ',', 'the', 'fox', 'is', 'faster', '.']\n",
      "----------------------------------------------------------------------------------------------------\n",
      "\n",
      "Step 4: word after stopword and stemmer:\n",
      "run\n",
      "forest\n",
      "fox\n",
      "faster\n"
     ]
    },
    {
     "name": "stderr",
     "output_type": "stream",
     "text": [
      "[nltk_data] Downloading package stopwords to\n",
      "[nltk_data]     C:\\Users\\Acer\\AppData\\Roaming\\nltk_data...\n",
      "[nltk_data]   Package stopwords is already up-to-date!\n"
     ]
    }
   ],
   "source": [
    "# step1: word_tokenize\n",
    "from nltk.tokenize import word_tokenize\n",
    "var = \"Running through the forest, the fox is faster.\"\n",
    "tokenize_var = word_tokenize(var)\n",
    "print(f\"step:1 word before stop word removing and stemmer {tokenize_var}\")\n",
    "\n",
    "print(\"-\" * 100)\n",
    "\n",
    "# step 2: importing stopwords and punctuation\n",
    "from nltk.corpus import stopwords\n",
    "from string import punctuation\n",
    "\n",
    "# avoiding lookup error\n",
    "import nltk\n",
    "nltk.download('stopwords')\n",
    "\n",
    "stop = stopwords.words(\"english\")\n",
    "\n",
    "# all stop_words\n",
    "stop_word_list = list(punctuation) + stop\n",
    "\n",
    "\n",
    "# step 3: performing stemming\n",
    "from nltk.stem import PorterStemmer # PorterStemmer is class\n",
    "p = PorterStemmer() # Creating object of porterstemmer class, to call the class\n",
    "\n",
    "# step 4: output\n",
    "print(\"\\nStep 4: word after stopword and stemmer:\")\n",
    "for i in tokenize_var:\n",
    "    if i not in stop_word_list: \n",
    "        stemmer = p.stem(i) \n",
    "        print(stemmer)"
   ]
  },
  {
   "cell_type": "code",
   "execution_count": 29,
   "id": "ad85b389-105f-411d-aa53-0002ad9d8287",
   "metadata": {},
   "outputs": [],
   "source": [
    "# very Imp and useful Note: \n",
    "\n",
    "##### If we have to store loop in a variable\n",
    "#<---------------------------------------------->\n",
    "\n",
    "# for i in tokenize_var:\n",
    "#     if i not in stop_word_list: \n",
    "#         stemmer = p.stem(i) \n",
    "#         print(stemmer)\n",
    "# This is our loop we have to store it into a variable see below 2 codes\n",
    "\n",
    "\n",
    "##### 1st) way using empty list\n",
    "# stemmed_words = []\n",
    "\n",
    "# for i in tokenize_var:\n",
    "#     if i not in stop_word_list:\n",
    "#         stemmer = p.stem(i)\n",
    "#         stemmed_words.append(stemmed_word)\n",
    "\n",
    "# print(stemmed_words)\n",
    "\n",
    "\n",
    "#### 2nd) way using list comprehension\n",
    "# stemmed_words = [p.stem(i) for i in tokenize_var if i not in stop_word_list]\n",
    "\n",
    "# # Print the list of stemmed words\n",
    "# print(stemmed_words)\n"
   ]
  },
  {
   "cell_type": "markdown",
   "id": "c451faff-6bae-4101-bff2-05026be9555d",
   "metadata": {},
   "source": [
    "12. **Count stopwords in a sentence.** `(\"This is an example sentence for counting stopwords.\")`\n"
   ]
  },
  {
   "cell_type": "code",
   "execution_count": 31,
   "id": "a1e9018b-9f86-4133-aec3-9c756582ad26",
   "metadata": {},
   "outputs": [
    {
     "name": "stdout",
     "output_type": "stream",
     "text": [
      "is\n",
      "an\n",
      "for\n",
      "Total number of stop words: 3\n"
     ]
    }
   ],
   "source": [
    "def stop_word(sent):\n",
    "    from nltk.corpus import stopwords\n",
    "    # To avoid lookup error\n",
    "    import nltk\n",
    "    nltk.download('stopwords', quiet=True)\n",
    "    stop_word_list = stopwords.words(\"english\")  # Stop word list\n",
    "    \n",
    "    from nltk.tokenize import word_tokenize\n",
    "    var_new = word_tokenize(sent)\n",
    "    \n",
    "    # Initialize a counter for the stop words\n",
    "    stop_word_count = 0\n",
    "\n",
    "    for i in var_new:\n",
    "        if i in stop_word_list:\n",
    "            print(i)  # Print each stop word\n",
    "            stop_word_count += 1  # Increment the count for each stop word\n",
    "    \n",
    "    # Print the total count of stop words\n",
    "    print(\"Total number of stop words:\", stop_word_count)\n",
    "\n",
    "var = \"This is an example sentence for counting stopwords.\"\n",
    "stop_word(var)\n"
   ]
  },
  {
   "cell_type": "markdown",
   "id": "ded0b2cf-d18f-46ce-9576-1e64c20a2323",
   "metadata": {},
   "source": [
    "13. **Perform stemming and remove punctuation using RegexTokenizer.** `(\"Stemming, punctuation! Removal example.\")`"
   ]
  },
  {
   "cell_type": "code",
   "execution_count": 33,
   "id": "210e6086-3f8c-4b62-80a1-c241885d75dd",
   "metadata": {},
   "outputs": [
    {
     "name": "stdout",
     "output_type": "stream",
     "text": [
      "Tokenize using regex:\n",
      "['Stemming', ',', 'punctuation', '!', 'Removal', 'example', '.']\n",
      "\n",
      "# Word After Stemmer:\n",
      "Runn\n",
      "through\n",
      "the\n",
      "forest\n",
      "the\n",
      "fox\n",
      "is\n",
      "faster\n"
     ]
    }
   ],
   "source": [
    "var = \"Stemming, punctuation! Removal example.\"\n",
    "\n",
    "# 1. word tokenize\n",
    "import re\n",
    "var = \"Stemming, punctuation! Removal example.\"\n",
    "print(f\"Tokenize using regex:\")\n",
    "print(re.findall(\"\\w+|[^\\w\\s]\",var))\n",
    "\n",
    "# 2. punctuation\n",
    "from string import punctuation\n",
    "punct_list = list(punctuation)\n",
    "\n",
    "# 3. Importing RegexpStemmer\n",
    "from nltk.stem import RegexpStemmer\n",
    "r = RegexpStemmer('ing') # Creating object of RegexpStemmer\n",
    "\n",
    "# 4. getting output\n",
    "print(\"\\n# Word After Stemmer:\")\n",
    "for i in tokenize_var:\n",
    "    if i not in punct_list:\n",
    "        stemmer = r.stem(i)\n",
    "        print(stemmer)\n",
    "\n",
    "# Note: In ques not mentioned specific stemmer.\n",
    "# So we can use any stemmer."
   ]
  },
  {
   "cell_type": "code",
   "execution_count": 34,
   "id": "937984f9-2eea-4290-99ca-57d5226b1c80",
   "metadata": {},
   "outputs": [],
   "source": [
    "# Notes:\n",
    "# w means alpha numeric\n",
    "# s means white space\n",
    "# ^ means not\n",
    "# [^\\w\\s] -> means not word and space means puntuation"
   ]
  },
  {
   "cell_type": "markdown",
   "id": "984f4cd8-39dd-49ba-a7f5-9b2bf5ce43b7",
   "metadata": {},
   "source": [
    "14. **Remove punctuation using regex and NLTK.** `(\"Punctuation removal with regex in NLP!\")`"
   ]
  },
  {
   "cell_type": "code",
   "execution_count": 36,
   "id": "1b9daf5d-0bfd-49cc-ada7-089b09c98736",
   "metadata": {},
   "outputs": [
    {
     "name": "stdout",
     "output_type": "stream",
     "text": [
      "Punctuation removal with regex in NLP\n"
     ]
    }
   ],
   "source": [
    "# punkt removal using regex\n",
    "import string\n",
    "import re\n",
    "\n",
    "text = \"Punctuation removal with regex in NLP!\"\n",
    "pattern = f\"[{re.escape(string.punctuation)}]\"\n",
    "remove_punc = re.sub(pattern, '',text)\n",
    "\n",
    "print(remove_punc)\n",
    "\n",
    "#  \n",
    "# Note: Since Regex scans the entire text to remove punctuation directly, making it more efficient without needing word-by-word tokenization."
   ]
  },
  {
   "cell_type": "code",
   "execution_count": 37,
   "id": "9139c24e-d9ae-4939-a1f0-5ddf4ef98b35",
   "metadata": {},
   "outputs": [
    {
     "name": "stdout",
     "output_type": "stream",
     "text": [
      "Punctuation\n",
      "removal\n",
      "with\n",
      "regex\n",
      "in\n",
      "NLP\n"
     ]
    },
    {
     "data": {
      "text/plain": [
       "['Punctuation', 'removal', 'with', 'regex', 'in', 'NLP', '!']"
      ]
     },
     "execution_count": 37,
     "metadata": {},
     "output_type": "execute_result"
    }
   ],
   "source": [
    "# punkc removal using nltk\n",
    "from nltk.tokenize import word_tokenize\n",
    "tokenize_var = word_tokenize(text)\n",
    "\n",
    "from string import punctuation\n",
    "punkt_list = list(punctuation)\n",
    "punkt_list\n",
    "\n",
    "# printing values using list\n",
    "for i in tokenize_var:\n",
    "    if i not in punkt_list:\n",
    "        print(i)\n",
    "\n",
    "tokenize_var"
   ]
  },
  {
   "cell_type": "code",
   "execution_count": 38,
   "id": "32242726-a730-4cb6-bbd8-ebd48cc6028b",
   "metadata": {},
   "outputs": [
    {
     "data": {
      "text/plain": [
       "['Punctuation', 'removal', 'with', 'regex', 'in', 'NLP']"
      ]
     },
     "execution_count": 38,
     "metadata": {},
     "output_type": "execute_result"
    }
   ],
   "source": [
    "# printing above values using list comprehension\n",
    "punck_removed = [i for i in tokenize_var if i not in punkt_list]\n",
    "punck_removed"
   ]
  },
  {
   "cell_type": "markdown",
   "id": "d726ae4f-cb9d-42d4-a24f-198ae834f7d6",
   "metadata": {},
   "source": [
    "15. **Tokenize text into words, remove stopwords, and lemmatize.** `(\"The dogs are barking loudly.\")`"
   ]
  },
  {
   "cell_type": "code",
   "execution_count": 40,
   "id": "5fd636b3-b88c-47c9-86a8-0be7f92972ca",
   "metadata": {},
   "outputs": [
    {
     "data": {
      "text/plain": [
       "['The', 'dogs', 'are', 'barking', 'loudly', '.']"
      ]
     },
     "execution_count": 40,
     "metadata": {},
     "output_type": "execute_result"
    }
   ],
   "source": [
    "# Step 1. word tokenize\n",
    "\n",
    "var = \"The dogs are barking loudly.\"\n",
    "\n",
    "from nltk.tokenize import word_tokenize\n",
    "tokenize_var = word_tokenize(var)\n",
    "tokenize_var"
   ]
  },
  {
   "cell_type": "code",
   "execution_count": 41,
   "id": "6bd01b48-f1f7-4a65-92c8-b0563fa3eda0",
   "metadata": {},
   "outputs": [
    {
     "name": "stdout",
     "output_type": "stream",
     "text": [
      "The\n",
      "dog\n",
      "barking\n",
      "loudly\n",
      ".\n"
     ]
    },
    {
     "name": "stderr",
     "output_type": "stream",
     "text": [
      "[nltk_data] Downloading package stopwords to\n",
      "[nltk_data]     C:\\Users\\Acer\\AppData\\Roaming\\nltk_data...\n",
      "[nltk_data]   Package stopwords is already up-to-date!\n"
     ]
    }
   ],
   "source": [
    "# Step 2. stopwords\n",
    "from nltk.corpus import stopwords\n",
    "\n",
    "## avoiding look up error\n",
    "import nltk\n",
    "nltk.download('stopwords')\n",
    "\n",
    "stop = stopwords.words(\"english\")\n",
    "\n",
    "# step 3 lemmatize\n",
    "from nltk.stem import WordNetLemmatizer\n",
    "wl = WordNetLemmatizer()\n",
    "\n",
    "# getting the result\n",
    "for i in tokenize_var:\n",
    "    if i not in stop:\n",
    "        lemmatizer = wl.lemmatize(i) # step 3 lemmatize\n",
    "        print(lemmatizer)\n",
    "\n",
    "# Note: Full stop is a punctuation not stop word.\n",
    "# so it is showing in the output"
   ]
  }
 ],
 "metadata": {
  "kernelspec": {
   "display_name": "Python 3 (ipykernel)",
   "language": "python",
   "name": "python3"
  },
  "language_info": {
   "codemirror_mode": {
    "name": "ipython",
    "version": 3
   },
   "file_extension": ".py",
   "mimetype": "text/x-python",
   "name": "python",
   "nbconvert_exporter": "python",
   "pygments_lexer": "ipython3",
   "version": "3.11.7"
  }
 },
 "nbformat": 4,
 "nbformat_minor": 5
}
